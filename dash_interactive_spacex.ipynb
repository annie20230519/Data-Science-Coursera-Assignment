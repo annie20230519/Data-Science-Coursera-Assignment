{
 "cells": [
  {
   "cell_type": "code",
   "execution_count": 1,
   "id": "80a2c27d-c17b-4e0f-91c8-a06dcbc42ab2",
   "metadata": {},
   "outputs": [
    {
     "data": {
      "text/plain": [
       "'\\nBuild a Dashboard Application with Plotly Dash\\nIn this lab, you will be building a Plotly Dash application for users to perform interactive visual analytics on SpaceX launch data in\\nreal-time.\\nThis dashboard application contains input components such as a dropdown list and a range slider to\\ninteract with a pie chart and a scatter point chart. You will be guided to build this dashboard application via the following tasks:\\n    TASK 1: Add a Launch Site Drop-down Input Component\\n    TASK 2: Add a callback function to render success-pie-chart based on selected site dropdown\\n    TASK 3: Add a Range Slider to Select Payload\\n    TASK 4: Add a callback function to render the success-payload-scatter-chart scatter plot\\nNote:Please take screenshots of the Dashboard and save them. Further upload your notebook to github.\\nThe github url and the screenshots are later required in the presentation slides.\\n'"
      ]
     },
     "execution_count": 1,
     "metadata": {},
     "output_type": "execute_result"
    }
   ],
   "source": [
    "'''\n",
    "Build a Dashboard Application with Plotly Dash\n",
    "In this lab, you will be building a Plotly Dash application for users to perform interactive visual analytics on SpaceX launch data in\n",
    "real-time.\n",
    "This dashboard application contains input components such as a dropdown list and a range slider to\n",
    "interact with a pie chart and a scatter point chart. You will be guided to build this dashboard application via the following tasks:\n",
    "    TASK 1: Add a Launch Site Drop-down Input Component\n",
    "    TASK 2: Add a callback function to render success-pie-chart based on selected site dropdown\n",
    "    TASK 3: Add a Range Slider to Select Payload\n",
    "    TASK 4: Add a callback function to render the success-payload-scatter-chart scatter plot\n",
    "Note:Please take screenshots of the Dashboard and save them. Further upload your notebook to github.\n",
    "The github url and the screenshots are later required in the presentation slides.\n",
    "'''"
   ]
  },
  {
   "cell_type": "code",
   "execution_count": 2,
   "id": "73bee0d7-c59a-426f-9cc9-0beef958033e",
   "metadata": {},
   "outputs": [],
   "source": [
    "# in terminal....\n",
    "#python3.8 -m pip install pandas dash\n",
    "#wget \"https://cf-courses-data.s3.us.cloud-object-storage.appdomain.cloud/IBM-DS0321EN-SkillsNetwork/datasets/spacex_launch_dash.csv\"\n",
    "#. wget \"https://cf-courses-data.s3.us.cloud-object-storage.appdomain.cloud/IBM-DS0321EN-SkillsNetwork/labs/module_3/spacex_dash_app.py\"\n"
   ]
  },
  {
   "cell_type": "code",
   "execution_count": 3,
   "id": "05e80afe-f193-4734-8ea1-c878a6ba0644",
   "metadata": {},
   "outputs": [],
   "source": [
    "  # TASK 1: Add a dropdown list to enable Launch Site selection"
   ]
  },
  {
   "cell_type": "code",
   "execution_count": 4,
   "id": "a3a36265-fc5e-4d9b-8723-b3718d14c8b6",
   "metadata": {},
   "outputs": [
    {
     "name": "stderr",
     "output_type": "stream",
     "text": [
      "C:\\Users\\yhuang\\AppData\\Local\\Temp\\ipykernel_19368\\2225602595.py:4: UserWarning: \n",
      "The dash_html_components package is deprecated. Please replace\n",
      "`import dash_html_components as html` with `from dash import html`\n",
      "  import dash_html_components as html\n",
      "C:\\Users\\yhuang\\AppData\\Local\\Temp\\ipykernel_19368\\2225602595.py:5: UserWarning: \n",
      "The dash_core_components package is deprecated. Please replace\n",
      "`import dash_core_components as dcc` with `from dash import dcc`\n",
      "  import dash_core_components as dcc\n"
     ]
    }
   ],
   "source": [
    "# Import required libraries\n",
    "import pandas as pd\n",
    "import dash\n",
    "import dash_html_components as html\n",
    "import dash_core_components as dcc\n",
    "from dash.dependencies import Input, Output\n",
    "import plotly.express as px\n",
    "\n",
    "# Read the airline data into pandas dataframe\n",
    "spacex_df = pd.read_csv(\"https://cf-courses-data.s3.us.cloud-object-storage.appdomain.cloud/IBM-DS0321EN-SkillsNetwork/datasets/spacex_launch_dash.csv\")\n",
    "max_payload = spacex_df['Payload Mass (kg)'].max()\n",
    "min_payload = spacex_df['Payload Mass (kg)'].min()\n",
    "\n",
    "step = 1000\n",
    "max_value = 10000\n",
    "marks = {i: str(i) for i in range(0, max_value + step, step)}\n",
    "\n",
    "# Create a dash application\n",
    "app = dash.Dash(__name__)\n",
    "\n",
    "site_list= spacex_df['Launch Site'].unique()\n",
    "      \n",
    "# Create an app layout\n",
    "app.layout = html.Div(children=[html.H1('SpaceX Launch Records Dashboard',\n",
    "                                        style={'textAlign': 'center', 'color': '#503D36',\n",
    "                                               'font-size': 40}),\n",
    "                                # TASK 1: Add a dropdown list to enable Launch Site selection\n",
    "                                # The default select value is for ALL sites\n",
    "                              \n",
    "                                dcc.Dropdown(id='site-dropdown',\n",
    "                                            options=[{'label': 'All Sites', 'value': 'ALL'}] + [{'label': i, 'value': i} for i in site_list],\n",
    "                                            #value='ALL',\n",
    "                                            placeholder=\"All Sites\",\n",
    "                                            searchable=True\n",
    "                                            ),\n",
    "   \n",
    "                                html.Br(),\n",
    "\n",
    "                                # TASK 2: Add a pie chart to show the total successful launches count for all sites\n",
    "                                # If a specific launch site was selected, show the Success vs. Failed counts for the site\n",
    "                                html.Div(dcc.Graph(id='success-pie-chart')),\n",
    "                                html.Br(),\n",
    "\n",
    "                                html.P(\"Payload range (Kg):\"),\n",
    "                                # TASK 3: Add a slider to select payload range\n",
    "                                #dcc.RangeSlider(id='payload-slider',...)\n",
    "                                dcc.RangeSlider(id='payload-slider',\n",
    "                                                    min=0, max=10000, step=1000,\n",
    "                                                    #marks={0: '0', 100: '100'},\n",
    "                                                    marks = {i: str(i) for i in range(int(min_payload), int(max_payload), 500)},\n",
    "                                                    value=[min_payload, max_payload]),\n",
    "\n",
    "\n",
    "                                # TASK 4: Add a scatter chart to show the correlation between payload and launch success\n",
    "                                html.Div(dcc.Graph(id='success-payload-scatter-chart')),\n",
    "                                ])\n"
   ]
  },
  {
   "cell_type": "code",
   "execution_count": 5,
   "id": "abd5138a-033a-405a-9c24-8a5a4395e1e7",
   "metadata": {},
   "outputs": [],
   "source": [
    "# TASK 2:\n",
    "# Add a callback function for `site-dropdown` as input, `success-pie-chart` as output"
   ]
  },
  {
   "cell_type": "code",
   "execution_count": 6,
   "id": "01375fad-9010-4e6d-82a9-79df84b553bb",
   "metadata": {},
   "outputs": [],
   "source": [
    "# Function decorator to specify function input and output\n",
    "@app.callback(Output(component_id='success-pie-chart', component_property='figure'),\n",
    "            Input(component_id='site-dropdown', component_property='value'))\n",
    "def get_pie_chart(entered_site):\n",
    "    if entered_site == 'ALL':\n",
    "        #df= spacex_df.groupby('Launch Site')['class'].sum().reset_index()     \n",
    "        fig = px.pie(spacex_df, values='class',\n",
    "                    names='Launch Site',\n",
    "                    title='Total success launches by sites')\n",
    "        return fig\n",
    "    else:\n",
    "        # return the outcomes piechart for a selected site\n",
    "        filtered_df = spacex_df.loc[spacex_df['Launch Site']==entered_site]\n",
    "        fig = px.pie(filtered_df, \n",
    "                    names='class',\n",
    "                    title='Success launches by site')\n",
    "        return fig"
   ]
  },
  {
   "cell_type": "markdown",
   "id": "af379383-cc5d-44f0-97d6-c8c6c7bdc5c6",
   "metadata": {},
   "source": [
    "TASK 4: Add a callback function to render the success-payload-scatter-chart scatter plot\n",
    "Next, we want to plot a scatter plot with the x axis to be the payload and the y axis to be the launch outcome (i.e., class column).\n",
    "As such, we can visually observe how payload may be correlated with mission outcomes for selected site(s).\n",
    "In addition, we want to color-label the Booster version on each scatter point so that we may\n",
    "observe mission outcomes with different boosters.\n",
    "\n",
    "A If-Else statement to check if ALL sites were selected or just a specific launch site was selected\n",
    "If ALL sites are selected, render a scatter plot to display all values for variable Payload Mass (kg) and variable class.\n",
    "In addition, the point color needs to be set to the booster version i.e., color=\"Booster Version Category\"\n",
    "If a specific launch site is selected, you need to filter the spacex_df first, and render a scatter chart to show\n",
    "values Payload Mass (kg) and class for the selected site, and color-label the point using Boosster Version Category likewise.\n"
   ]
  },
  {
   "cell_type": "code",
   "execution_count": 7,
   "id": "9de2c98f-15d1-4f8d-9124-472d4bc305cf",
   "metadata": {},
   "outputs": [],
   "source": [
    "# Function decorator to specify function input and output\n",
    "@app.callback(Output(component_id='success-payload-scatter-chart', component_property='figure'),\n",
    "           [Input(component_id='site-dropdown', component_property='value'), Input(component_id=\"payload-slider\", component_property=\"value\")])\n",
    "def get_scatter_chart(entered_site, payload_range):\n",
    "    if entered_site == 'ALL':  \n",
    "        df1= spacex_df[(spacex_df['Payload Mass (kg)']>=min(payload_range)) & (spacex_df['Payload Mass (kg)']<= max(payload_range)) ]\n",
    "        fig = px.scatter(df1, y='class',\n",
    "                x='Payload Mass (kg)', color=\"Booster Version Category\",\n",
    "                title='Correlation between payload and success - All sites')\n",
    "        return fig\n",
    "    else:\n",
    "        # return the outcomes piechart for a selected site\n",
    "        filtered_df = spacex_df.loc[spacex_df['Launch Site']==entered_site]\n",
    "        df1= spacex_df[(filtered_df['Payload Mass (kg)']>=min(payload_range)) & (spacex_df['Payload Mass (kg)']<= max(payload_range)) ]\n",
    "        fig = px.scatter(df1, y='class',\n",
    "                x='Payload Mass (kg)', color=\"Booster Version Category\",\n",
    "                title='Correlation between payload and success by site')\n",
    "        return fig"
   ]
  },
  {
   "cell_type": "code",
   "execution_count": 8,
   "id": "5c19e050-6ddd-4915-b82a-18233062eb9f",
   "metadata": {},
   "outputs": [
    {
     "data": {
      "text/html": [
       "\n",
       "        <iframe\n",
       "            width=\"100%\"\n",
       "            height=\"650\"\n",
       "            src=\"http://127.0.0.1:8050/\"\n",
       "            frameborder=\"0\"\n",
       "            allowfullscreen\n",
       "            \n",
       "        ></iframe>\n",
       "        "
      ],
      "text/plain": [
       "<IPython.lib.display.IFrame at 0x1f30f1d9690>"
      ]
     },
     "metadata": {},
     "output_type": "display_data"
    }
   ],
   "source": [
    "\n",
    "# Run the app\n",
    "if __name__ == '__main__':\n",
    "    app.run_server()\n",
    "\n"
   ]
  },
  {
   "cell_type": "code",
   "execution_count": null,
   "id": "ea06d722-37a3-477e-bc67-ef895ed852d2",
   "metadata": {},
   "outputs": [],
   "source": []
  }
 ],
 "metadata": {
  "kernelspec": {
   "display_name": "Python 3 (ipykernel)",
   "language": "python",
   "name": "python3"
  },
  "language_info": {
   "codemirror_mode": {
    "name": "ipython",
    "version": 3
   },
   "file_extension": ".py",
   "mimetype": "text/x-python",
   "name": "python",
   "nbconvert_exporter": "python",
   "pygments_lexer": "ipython3",
   "version": "3.11.4"
  }
 },
 "nbformat": 4,
 "nbformat_minor": 5
}
